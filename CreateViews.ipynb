{
 "cells": [
  {
   "cell_type": "markdown",
   "metadata": {},
   "source": [
    "# Automatically Create Views in Cloudability\n",
    "\n",
    "The backbone of Cloudability is views, but their creation on mass can become time consuming.\n",
    "\n",
    "This script is the answer, choose any business dimension and it will automatically create a view for each value. \n",
    "\n",
    "1. Enter token\n",
    "2. Choose business mapping you want to replicate in views, if your business mapping has 100 values then you will get 100 individual views\n",
    "3. Choose match operator - default is equals (==) but contains (=@) can also be valuable\n",
    "4. Decide if you want a prefex in your view to give the audiance some context, for example \"Env: Dev\" or \"Dept: Engineering\" - useful for hierarchies\n",
    "5. Run script in your chosen python CLI (i use JupyterLab)\n",
    "\n",
    "More information about the API: https://developers.cloudability.com/docs/views-end-point\n",
    "\n",
    "More information about views: https://support.cloudability.com/hc/en-us/articles/204303708-Views"
   ]
  },
  {
   "cell_type": "code",
   "execution_count": null,
   "metadata": {},
   "outputs": [],
   "source": [
    "###Enter details below\n",
    "\n",
    "#enter CLDY token\n",
    "token = \"tokenhere\"\n",
    "\n",
    "#Which business mapping do you want to use to create the views?\n",
    "#use the order of business mappings presented in cloudabiity\n",
    "bus_mapping_number = 1\n",
    "\n",
    "#!=@, =@, !=, ==, >=, <=, >, <\n",
    "Operator = \"==\"\n",
    "\n",
    "#Enter prefix e.g. \"\" or \"Env: \"\n",
    "view_prefix = \"Env: \"\n",
    "\n",
    "import re\n",
    "import pandas as pd\n",
    "import requests \n",
    "import base64\n",
    "import json\n",
    "from pandas import json_normalize\n",
    "pd.set_option('display.max_colwidth', None)\n",
    "from IPython.core.display import display, HTML\n",
    "display(HTML(\"<style>.container { width:100% !important; }</style>\"))\n",
    "\n",
    "#encode token for html\n",
    "token2 = token+\":\"\n",
    "message_bytes = token2.encode('ascii')\n",
    "base64_bytes = base64.b64encode(message_bytes)\n",
    "base64_message = base64_bytes.decode('ascii')\n",
    "#API details\n",
    "headers = {\n",
    "  'Content-Type': 'application/json',\n",
    "  'Authorization': 'Basic '+base64_message\n",
    "}\n",
    "\n",
    "########--Variables--########\n",
    "\n",
    "url = 'https://api.cloudability.com/v3/internal/reporting/cost/run?dimensions=category'+ str(bus_mapping_number) + '&end=2022-07-26&metrics=unblended_cost&relativePeriods=this_year&sort=unblended_costDESC&start=2022-01-01&viewId=0'\n",
    "\n",
    "\n",
    "response = requests.request(\"GET\", url, headers=headers)\n",
    "json = response.json()\n",
    "df = pd.DataFrame(json['rows'])\n",
    "df['dimensions'] = pd.DataFrame([str(line).strip('[').strip(']').replace(\"'\",\"\") for line in df['dimensions']])\n",
    "\n",
    "\n",
    "for x in df['dimensions']:\n",
    "    #this is meat of the script, the JSON Post where you define the name of the view, who to share it with and what to match on\n",
    "    payload = '{ \\r\\n  \\\"title\\\": \\\"'+ view_prefix + x + '\\\",\\r\\n  \\\"sharedWithOrganization\\\": true,\\r\\n  \\\"sharedWithUsers\\\": [],\\r\\n  \\\"filters\\\": [{\\\"field\\\":\\\"category'+ str(bus_mapping_number) + '\\\",\\\"comparator\\\":\\\"'+ Operator + '\\\",\\\"value\\\":\\\"'+ x + '\\\"}]\\r\\n}\\r\\nEOF'\n",
    "    response = requests.request(\"POST\", \"https://api.cloudability.com/v3/views\", headers=headers, data = payload)\n",
    "    print(x+\" response code: \"+str(response.status_code))\n",
    "    \n",
    "print(\"End\")"
   ]
  },
  {
   "cell_type": "code",
   "execution_count": null,
   "metadata": {},
   "outputs": [],
   "source": []
  }
 ],
 "metadata": {
  "kernelspec": {
   "display_name": "Python 3",
   "language": "python",
   "name": "python3"
  },
  "language_info": {
   "codemirror_mode": {
    "name": "ipython",
    "version": 3
   },
   "file_extension": ".py",
   "mimetype": "text/x-python",
   "name": "python",
   "nbconvert_exporter": "python",
   "pygments_lexer": "ipython3",
   "version": "3.8.5"
  }
 },
 "nbformat": 4,
 "nbformat_minor": 4
}
